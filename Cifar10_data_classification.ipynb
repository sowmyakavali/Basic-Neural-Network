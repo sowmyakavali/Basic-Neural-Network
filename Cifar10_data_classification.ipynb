{
  "nbformat": 4,
  "nbformat_minor": 0,
  "metadata": {
    "colab": {
      "name": "Sowmya_Computer vision_Assignment.ipynb",
      "provenance": [],
      "authorship_tag": "ABX9TyNLRVu/Y50AF4uVbEyOJO6S",
      "include_colab_link": true
    },
    "kernelspec": {
      "name": "python3",
      "display_name": "Python 3"
    },
    "language_info": {
      "name": "python"
    }
  },
  "cells": [
    {
      "cell_type": "markdown",
      "metadata": {
        "id": "view-in-github",
        "colab_type": "text"
      },
      "source": [
        "<a href=\"https://colab.research.google.com/github/sowmyakavali/Basic-Neural-Network/blob/main/Cifar10_data_classification.ipynb\" target=\"_parent\"><img src=\"https://colab.research.google.com/assets/colab-badge.svg\" alt=\"Open In Colab\"/></a>"
      ]
    },
    {
      "cell_type": "markdown",
      "metadata": {
        "id": "FRbpB_pSjvKA"
      },
      "source": [
        "#### Imports "
      ]
    },
    {
      "cell_type": "code",
      "metadata": {
        "id": "Mq0F1LzpTh4d"
      },
      "source": [
        "# Import Libraries\n",
        "import sys\n",
        "import tensorflow as tf\n",
        "from tensorflow import keras\n",
        "import matplotlib.pyplot as plt\n",
        "from tensorflow.keras.datasets import cifar10"
      ],
      "execution_count": 1,
      "outputs": []
    },
    {
      "cell_type": "markdown",
      "metadata": {
        "id": "q0-uDKUHj1q7"
      },
      "source": [
        "#### ModelA"
      ]
    },
    {
      "cell_type": "code",
      "metadata": {
        "id": "zbb_YKZ9Q_H-"
      },
      "source": [
        "class NetA:\n",
        "\n",
        "    def __init__(self):\n",
        "        self.input_shape = (32, 32, 3)\n",
        "\n",
        "    def model(self):\n",
        "        model = tf.keras.models.Sequential()\n",
        "        model.add( keras.layers.Flatten( input_shape = self.input_shape))\n",
        "        model.add( keras.layers.Dense( 10, activation = \"softmax\"))\n",
        "        model.compile(optimizer = 'adam', loss = 'sparse_categorical_crossentropy', metrics = ['accuracy'])\n",
        "        return model"
      ],
      "execution_count": 2,
      "outputs": []
    },
    {
      "cell_type": "markdown",
      "metadata": {
        "id": "HkEwnC3tj8WE"
      },
      "source": [
        "#### ModelB"
      ]
    },
    {
      "cell_type": "code",
      "metadata": {
        "id": "SnyQ-x_xRK4k"
      },
      "source": [
        "class NetB:\n",
        "\n",
        "    def __init__(self):\n",
        "        self.input_shape = (32, 32, 3)\n",
        "\n",
        "    def model(self): \n",
        "        model = tf.keras.models.Sequential()\n",
        "        model.add( keras.layers.Flatten( input_shape = self.input_shape))\n",
        "        model.add( keras.layers.Dense(300, activation = 'relu'))\n",
        "        model.add( keras.layers.Dense(10, activation = 'softmax')) \n",
        "        model.compile(optimizer = 'adam', loss = 'sparse_categorical_crossentropy', metrics = ['accuracy'])\n",
        "        return model      "
      ],
      "execution_count": 3,
      "outputs": []
    },
    {
      "cell_type": "markdown",
      "metadata": {
        "id": "0rTw7RN6j-iI"
      },
      "source": [
        "#### ModelC"
      ]
    },
    {
      "cell_type": "code",
      "metadata": {
        "id": "b-wYKNMFRNpw"
      },
      "source": [
        "class NetC:\n",
        "\n",
        "    def __init__(self):\n",
        "        self.input_shape = (32, 32, 3)\n",
        "\n",
        "    def model(self):\n",
        "        model = tf.keras.models.Sequential()\n",
        "        model.add( keras.layers.Conv2D(25, (5,5), activation = 'relu', input_shape = self.input_shape) )\n",
        "        model.add( keras.layers.MaxPooling2D((2,2)) )\n",
        "        model.add( keras.layers.Flatten() )\n",
        "        model.add( keras.layers.Dense(10, activation = 'softmax') ) \n",
        "        model.compile( optimizer = 'adam', loss = 'sparse_categorical_crossentropy', metrics = ['accuracy'] ) \n",
        "        return model"
      ],
      "execution_count": 4,
      "outputs": []
    },
    {
      "cell_type": "markdown",
      "metadata": {
        "id": "fBaEm7zAjpau"
      },
      "source": [
        "#### Plot function"
      ]
    },
    {
      "cell_type": "code",
      "metadata": {
        "id": "7jqHmMClGYrN"
      },
      "source": [
        "def plot(history):\n",
        "    fig = plt.figure()\n",
        "    ax1 = fig.add_subplot(1,2,1)\n",
        "    plt.title('Classification Accuracy')  \n",
        "    plt.plot(history.history['accuracy'], color='blue', label='train')\n",
        "    plt.plot(history.history['val_accuracy'], color='orange', label='test') \n",
        "    plt.legend(['train', 'test'], loc='upper left')\n",
        "\n",
        "    ax2 = fig.add_subplot(1,2,2)\n",
        "    plt.title('Cross Entropy Loss')\n",
        "    plt.plot(history.history['loss'], color='blue', label='train')\n",
        "    plt.plot(history.history['val_loss'], color='orange', label='test') \n",
        "    plt.legend(['train', 'test'], loc='upper left')   \n",
        "    plt.show()"
      ],
      "execution_count": 5,
      "outputs": []
    },
    {
      "cell_type": "markdown",
      "metadata": {
        "id": "diu_IS09i2Uc"
      },
      "source": [
        "#### Load Dataset "
      ]
    },
    {
      "cell_type": "code",
      "metadata": {
        "id": "rXRerpCeWn70"
      },
      "source": [
        "# load dataset\n",
        "(trainX, trainY), (testX, testY) = cifar10.load_data()\n",
        "\n",
        "# normalize to range 0-1\n",
        "trainX = trainX / 255.0\n",
        "testX = testX / 255.0\n",
        "\n",
        "# Important arguments\n",
        "EPOCHS_NUM = 50\n",
        "BATCH_SIZE = 128"
      ],
      "execution_count": 6,
      "outputs": []
    },
    {
      "cell_type": "markdown",
      "metadata": {
        "id": "KDtzGj1Yi8ju"
      },
      "source": [
        "### Run each model"
      ]
    },
    {
      "cell_type": "code",
      "metadata": {
        "colab": {
          "base_uri": "https://localhost:8080/"
        },
        "id": "C1uez25iptNH",
        "outputId": "aa45712a-f64e-42c4-bf54-35a80a22ab8a"
      },
      "source": [
        "# Initialize all model classes\n",
        "nets = [NetA(), NetB(), NetC()]\n",
        "# store evaluation metrics\n",
        "results = []\n",
        "\n",
        "for net in nets:\n",
        "    net_name = type(net).__name__\n",
        "    print('[INFO] {} Started'.format(net_name))\n",
        "    # Load model\n",
        "    model = net.model()\n",
        "    # fit model\n",
        "    history = model.fit(trainX, trainY, epochs = EPOCHS_NUM, batch_size = BATCH_SIZE, validation_data = (testX, testY))\n",
        "    # evaluate model\n",
        "    test_loss, test_accuracy = model.evaluate(testX, testY) \n",
        "    train_loss, train_accuracy = model.evaluate(trainX, trainY) \n",
        "    # Print metrics for each model \n",
        "    print('Validation Accuracy : {} \\nValidation Loss: {} '.format(round(test_accuracy * 100.0,2), round(test_loss * 100.0,2)))  \n",
        "    print('Training Accuracy : {} \\nTraining Loss : {} '.format(round(train_accuracy * 100.0, 2), round(train_loss * 100.0, 2)))  \n",
        "    # plot(history)  \n",
        "    results.append({'net':net_name,\n",
        "                    'History' : history,\n",
        "                    'test_acc': round(test_accuracy * 100.0,2),\n",
        "                    'train_acc':round(train_accuracy * 100.0, 2) })                               "
      ],
      "execution_count": 7,
      "outputs": [
        {
          "output_type": "stream",
          "text": [
            "[INFO] NetA Started\n",
            "Epoch 1/50\n",
            "391/391 [==============================] - 2s 5ms/step - loss: 1.9361 - accuracy: 0.3140 - val_loss: 1.8139 - val_accuracy: 0.3577\n",
            "Epoch 2/50\n",
            "391/391 [==============================] - 1s 4ms/step - loss: 1.8293 - accuracy: 0.3605 - val_loss: 1.8462 - val_accuracy: 0.3657\n",
            "Epoch 3/50\n",
            "391/391 [==============================] - 1s 3ms/step - loss: 1.8080 - accuracy: 0.3694 - val_loss: 1.8268 - val_accuracy: 0.3592\n",
            "Epoch 4/50\n",
            "391/391 [==============================] - 1s 3ms/step - loss: 1.7849 - accuracy: 0.3791 - val_loss: 1.7813 - val_accuracy: 0.3807\n",
            "Epoch 5/50\n",
            "391/391 [==============================] - 1s 3ms/step - loss: 1.7712 - accuracy: 0.3859 - val_loss: 1.8250 - val_accuracy: 0.3572\n",
            "Epoch 6/50\n",
            "391/391 [==============================] - 1s 3ms/step - loss: 1.7651 - accuracy: 0.3859 - val_loss: 1.8219 - val_accuracy: 0.3679\n",
            "Epoch 7/50\n",
            "391/391 [==============================] - 1s 3ms/step - loss: 1.7571 - accuracy: 0.3924 - val_loss: 1.7903 - val_accuracy: 0.3758\n",
            "Epoch 8/50\n",
            "391/391 [==============================] - 1s 3ms/step - loss: 1.7406 - accuracy: 0.3982 - val_loss: 1.7618 - val_accuracy: 0.3881\n",
            "Epoch 9/50\n",
            "391/391 [==============================] - 1s 4ms/step - loss: 1.7436 - accuracy: 0.3974 - val_loss: 1.8104 - val_accuracy: 0.3601\n",
            "Epoch 10/50\n",
            "391/391 [==============================] - 1s 4ms/step - loss: 1.7426 - accuracy: 0.3975 - val_loss: 1.7543 - val_accuracy: 0.3932\n",
            "Epoch 11/50\n",
            "391/391 [==============================] - 1s 4ms/step - loss: 1.7263 - accuracy: 0.4063 - val_loss: 1.7552 - val_accuracy: 0.3947\n",
            "Epoch 12/50\n",
            "391/391 [==============================] - 1s 4ms/step - loss: 1.7366 - accuracy: 0.4014 - val_loss: 1.7249 - val_accuracy: 0.4041\n",
            "Epoch 13/50\n",
            "391/391 [==============================] - 1s 4ms/step - loss: 1.7166 - accuracy: 0.4105 - val_loss: 1.7384 - val_accuracy: 0.3963\n",
            "Epoch 14/50\n",
            "391/391 [==============================] - 1s 4ms/step - loss: 1.7271 - accuracy: 0.4051 - val_loss: 1.7352 - val_accuracy: 0.3993\n",
            "Epoch 15/50\n",
            "391/391 [==============================] - 1s 4ms/step - loss: 1.7249 - accuracy: 0.4071 - val_loss: 1.7956 - val_accuracy: 0.3728\n",
            "Epoch 16/50\n",
            "391/391 [==============================] - 1s 4ms/step - loss: 1.7166 - accuracy: 0.4098 - val_loss: 1.7692 - val_accuracy: 0.3846\n",
            "Epoch 17/50\n",
            "391/391 [==============================] - 1s 4ms/step - loss: 1.7238 - accuracy: 0.4084 - val_loss: 1.8115 - val_accuracy: 0.3766\n",
            "Epoch 18/50\n",
            "391/391 [==============================] - 1s 4ms/step - loss: 1.7151 - accuracy: 0.4097 - val_loss: 1.7593 - val_accuracy: 0.3842\n",
            "Epoch 19/50\n",
            "391/391 [==============================] - 1s 4ms/step - loss: 1.7168 - accuracy: 0.4119 - val_loss: 1.8045 - val_accuracy: 0.3766\n",
            "Epoch 20/50\n",
            "391/391 [==============================] - 1s 4ms/step - loss: 1.7076 - accuracy: 0.4148 - val_loss: 1.7795 - val_accuracy: 0.3779\n",
            "Epoch 21/50\n",
            "391/391 [==============================] - 1s 4ms/step - loss: 1.7049 - accuracy: 0.4140 - val_loss: 1.7998 - val_accuracy: 0.3711\n",
            "Epoch 22/50\n",
            "391/391 [==============================] - 1s 4ms/step - loss: 1.7062 - accuracy: 0.4129 - val_loss: 1.8009 - val_accuracy: 0.3703\n",
            "Epoch 23/50\n",
            "391/391 [==============================] - 1s 4ms/step - loss: 1.7062 - accuracy: 0.4150 - val_loss: 1.7413 - val_accuracy: 0.3924\n",
            "Epoch 24/50\n",
            "391/391 [==============================] - 1s 4ms/step - loss: 1.6974 - accuracy: 0.4177 - val_loss: 1.7520 - val_accuracy: 0.3938\n",
            "Epoch 25/50\n",
            "391/391 [==============================] - 1s 4ms/step - loss: 1.7063 - accuracy: 0.4143 - val_loss: 1.7309 - val_accuracy: 0.4008\n",
            "Epoch 26/50\n",
            "391/391 [==============================] - 1s 4ms/step - loss: 1.6918 - accuracy: 0.4200 - val_loss: 1.7922 - val_accuracy: 0.3802\n",
            "Epoch 27/50\n",
            "391/391 [==============================] - 1s 3ms/step - loss: 1.6945 - accuracy: 0.4173 - val_loss: 1.7777 - val_accuracy: 0.3871\n",
            "Epoch 28/50\n",
            "391/391 [==============================] - 1s 3ms/step - loss: 1.6946 - accuracy: 0.4198 - val_loss: 1.7856 - val_accuracy: 0.3776\n",
            "Epoch 29/50\n",
            "391/391 [==============================] - 1s 3ms/step - loss: 1.7008 - accuracy: 0.4175 - val_loss: 1.7575 - val_accuracy: 0.3990\n",
            "Epoch 30/50\n",
            "391/391 [==============================] - 1s 3ms/step - loss: 1.6905 - accuracy: 0.4202 - val_loss: 1.7994 - val_accuracy: 0.3785\n",
            "Epoch 31/50\n",
            "391/391 [==============================] - 1s 3ms/step - loss: 1.6931 - accuracy: 0.4222 - val_loss: 1.8519 - val_accuracy: 0.3781\n",
            "Epoch 32/50\n",
            "391/391 [==============================] - 1s 3ms/step - loss: 1.6869 - accuracy: 0.4208 - val_loss: 1.7801 - val_accuracy: 0.3861\n",
            "Epoch 33/50\n",
            "391/391 [==============================] - 1s 3ms/step - loss: 1.6891 - accuracy: 0.4205 - val_loss: 1.7792 - val_accuracy: 0.3805\n",
            "Epoch 34/50\n",
            "391/391 [==============================] - 1s 3ms/step - loss: 1.6962 - accuracy: 0.4204 - val_loss: 1.7437 - val_accuracy: 0.3926\n",
            "Epoch 35/50\n",
            "391/391 [==============================] - 1s 3ms/step - loss: 1.6896 - accuracy: 0.4179 - val_loss: 1.8623 - val_accuracy: 0.3648\n",
            "Epoch 36/50\n",
            "391/391 [==============================] - 1s 3ms/step - loss: 1.6909 - accuracy: 0.4189 - val_loss: 1.7825 - val_accuracy: 0.3771\n",
            "Epoch 37/50\n",
            "391/391 [==============================] - 1s 3ms/step - loss: 1.6877 - accuracy: 0.4215 - val_loss: 1.7487 - val_accuracy: 0.3972\n",
            "Epoch 38/50\n",
            "391/391 [==============================] - 1s 4ms/step - loss: 1.6783 - accuracy: 0.4257 - val_loss: 1.7562 - val_accuracy: 0.3953\n",
            "Epoch 39/50\n",
            "391/391 [==============================] - 1s 3ms/step - loss: 1.6765 - accuracy: 0.4253 - val_loss: 1.7394 - val_accuracy: 0.3925\n",
            "Epoch 40/50\n",
            "391/391 [==============================] - 1s 4ms/step - loss: 1.6797 - accuracy: 0.4244 - val_loss: 1.7829 - val_accuracy: 0.3894\n",
            "Epoch 41/50\n",
            "391/391 [==============================] - 1s 4ms/step - loss: 1.6825 - accuracy: 0.4227 - val_loss: 1.7834 - val_accuracy: 0.3839\n",
            "Epoch 42/50\n",
            "391/391 [==============================] - 1s 3ms/step - loss: 1.6889 - accuracy: 0.4190 - val_loss: 1.7943 - val_accuracy: 0.3876\n",
            "Epoch 43/50\n",
            "391/391 [==============================] - 1s 3ms/step - loss: 1.6825 - accuracy: 0.4243 - val_loss: 1.7673 - val_accuracy: 0.3923\n",
            "Epoch 44/50\n",
            "391/391 [==============================] - 1s 3ms/step - loss: 1.6805 - accuracy: 0.4220 - val_loss: 1.8376 - val_accuracy: 0.3577\n",
            "Epoch 45/50\n",
            "391/391 [==============================] - 1s 4ms/step - loss: 1.6734 - accuracy: 0.4269 - val_loss: 1.7763 - val_accuracy: 0.3837\n",
            "Epoch 46/50\n",
            "391/391 [==============================] - 1s 3ms/step - loss: 1.6783 - accuracy: 0.4258 - val_loss: 1.7867 - val_accuracy: 0.3838\n",
            "Epoch 47/50\n",
            "391/391 [==============================] - 1s 4ms/step - loss: 1.6832 - accuracy: 0.4231 - val_loss: 1.7912 - val_accuracy: 0.3769\n",
            "Epoch 48/50\n",
            "391/391 [==============================] - 1s 4ms/step - loss: 1.6749 - accuracy: 0.4244 - val_loss: 1.7908 - val_accuracy: 0.3788\n",
            "Epoch 49/50\n",
            "391/391 [==============================] - 1s 4ms/step - loss: 1.6824 - accuracy: 0.4242 - val_loss: 1.7816 - val_accuracy: 0.3929\n",
            "Epoch 50/50\n",
            "391/391 [==============================] - 1s 3ms/step - loss: 1.6652 - accuracy: 0.4295 - val_loss: 1.7753 - val_accuracy: 0.3832\n",
            "313/313 [==============================] - 0s 1ms/step - loss: 1.7753 - accuracy: 0.3832\n",
            "1563/1563 [==============================] - 2s 1ms/step - loss: 1.6602 - accuracy: 0.4277\n",
            "Validation Accuracy : 38.32 \n",
            "Validation Loss: 177.53 \n",
            "Training Accuracy : 42.77 \n",
            "Training Loss : 166.02 \n",
            "[INFO] NetB Started\n",
            "Epoch 1/50\n",
            "391/391 [==============================] - 7s 16ms/step - loss: 1.9793 - accuracy: 0.3017 - val_loss: 1.7916 - val_accuracy: 0.3695\n",
            "Epoch 2/50\n",
            "391/391 [==============================] - 6s 16ms/step - loss: 1.7537 - accuracy: 0.3787 - val_loss: 1.7263 - val_accuracy: 0.3896\n",
            "Epoch 3/50\n",
            "391/391 [==============================] - 6s 16ms/step - loss: 1.6854 - accuracy: 0.4034 - val_loss: 1.6568 - val_accuracy: 0.4175\n",
            "Epoch 4/50\n",
            "391/391 [==============================] - 6s 16ms/step - loss: 1.6393 - accuracy: 0.4204 - val_loss: 1.6425 - val_accuracy: 0.4109\n",
            "Epoch 5/50\n",
            "391/391 [==============================] - 6s 16ms/step - loss: 1.6129 - accuracy: 0.4296 - val_loss: 1.6370 - val_accuracy: 0.4216\n",
            "Epoch 6/50\n",
            "391/391 [==============================] - 6s 16ms/step - loss: 1.5871 - accuracy: 0.4383 - val_loss: 1.5740 - val_accuracy: 0.4452\n",
            "Epoch 7/50\n",
            "391/391 [==============================] - 6s 16ms/step - loss: 1.5610 - accuracy: 0.4478 - val_loss: 1.5767 - val_accuracy: 0.4433\n",
            "Epoch 8/50\n",
            "391/391 [==============================] - 6s 16ms/step - loss: 1.5476 - accuracy: 0.4534 - val_loss: 1.5522 - val_accuracy: 0.4460\n",
            "Epoch 9/50\n",
            "391/391 [==============================] - 6s 16ms/step - loss: 1.5266 - accuracy: 0.4579 - val_loss: 1.5588 - val_accuracy: 0.4505\n",
            "Epoch 10/50\n",
            "391/391 [==============================] - 6s 16ms/step - loss: 1.5141 - accuracy: 0.4631 - val_loss: 1.5283 - val_accuracy: 0.4638\n",
            "Epoch 11/50\n",
            "391/391 [==============================] - 6s 16ms/step - loss: 1.5011 - accuracy: 0.4699 - val_loss: 1.5264 - val_accuracy: 0.4613\n",
            "Epoch 12/50\n",
            "391/391 [==============================] - 6s 16ms/step - loss: 1.4892 - accuracy: 0.4730 - val_loss: 1.5312 - val_accuracy: 0.4539\n",
            "Epoch 13/50\n",
            "391/391 [==============================] - 6s 16ms/step - loss: 1.4783 - accuracy: 0.4767 - val_loss: 1.5355 - val_accuracy: 0.4530\n",
            "Epoch 14/50\n",
            "391/391 [==============================] - 6s 16ms/step - loss: 1.4735 - accuracy: 0.4774 - val_loss: 1.5209 - val_accuracy: 0.4591\n",
            "Epoch 15/50\n",
            "391/391 [==============================] - 6s 16ms/step - loss: 1.4606 - accuracy: 0.4817 - val_loss: 1.5368 - val_accuracy: 0.4495\n",
            "Epoch 16/50\n",
            "391/391 [==============================] - 6s 16ms/step - loss: 1.4523 - accuracy: 0.4856 - val_loss: 1.4969 - val_accuracy: 0.4647\n",
            "Epoch 17/50\n",
            "391/391 [==============================] - 6s 16ms/step - loss: 1.4407 - accuracy: 0.4888 - val_loss: 1.5542 - val_accuracy: 0.4475\n",
            "Epoch 18/50\n",
            "391/391 [==============================] - 6s 16ms/step - loss: 1.4390 - accuracy: 0.4896 - val_loss: 1.5334 - val_accuracy: 0.4448\n",
            "Epoch 19/50\n",
            "391/391 [==============================] - 6s 16ms/step - loss: 1.4244 - accuracy: 0.4942 - val_loss: 1.4901 - val_accuracy: 0.4685\n",
            "Epoch 20/50\n",
            "391/391 [==============================] - 6s 16ms/step - loss: 1.4258 - accuracy: 0.4923 - val_loss: 1.4987 - val_accuracy: 0.4602\n",
            "Epoch 21/50\n",
            "391/391 [==============================] - 6s 16ms/step - loss: 1.4166 - accuracy: 0.4951 - val_loss: 1.4827 - val_accuracy: 0.4687\n",
            "Epoch 22/50\n",
            "391/391 [==============================] - 6s 16ms/step - loss: 1.4091 - accuracy: 0.4981 - val_loss: 1.4910 - val_accuracy: 0.4633\n",
            "Epoch 23/50\n",
            "391/391 [==============================] - 6s 16ms/step - loss: 1.4011 - accuracy: 0.5035 - val_loss: 1.5009 - val_accuracy: 0.4617\n",
            "Epoch 24/50\n",
            "391/391 [==============================] - 6s 16ms/step - loss: 1.3971 - accuracy: 0.5030 - val_loss: 1.4776 - val_accuracy: 0.4699\n",
            "Epoch 25/50\n",
            "391/391 [==============================] - 6s 16ms/step - loss: 1.3887 - accuracy: 0.5058 - val_loss: 1.4730 - val_accuracy: 0.4708\n",
            "Epoch 26/50\n",
            "391/391 [==============================] - 6s 16ms/step - loss: 1.3936 - accuracy: 0.5025 - val_loss: 1.4706 - val_accuracy: 0.4700\n",
            "Epoch 27/50\n",
            "391/391 [==============================] - 6s 16ms/step - loss: 1.3903 - accuracy: 0.5078 - val_loss: 1.4975 - val_accuracy: 0.4685\n",
            "Epoch 28/50\n",
            "391/391 [==============================] - 6s 16ms/step - loss: 1.3792 - accuracy: 0.5082 - val_loss: 1.4787 - val_accuracy: 0.4706\n",
            "Epoch 29/50\n",
            "391/391 [==============================] - 6s 16ms/step - loss: 1.3692 - accuracy: 0.5124 - val_loss: 1.4773 - val_accuracy: 0.4765\n",
            "Epoch 30/50\n",
            "391/391 [==============================] - 6s 16ms/step - loss: 1.3744 - accuracy: 0.5109 - val_loss: 1.4895 - val_accuracy: 0.4660\n",
            "Epoch 31/50\n",
            "391/391 [==============================] - 6s 16ms/step - loss: 1.3693 - accuracy: 0.5151 - val_loss: 1.5067 - val_accuracy: 0.4656\n",
            "Epoch 32/50\n",
            "391/391 [==============================] - 6s 16ms/step - loss: 1.3615 - accuracy: 0.5165 - val_loss: 1.5200 - val_accuracy: 0.4592\n",
            "Epoch 33/50\n",
            "391/391 [==============================] - 6s 16ms/step - loss: 1.3623 - accuracy: 0.5163 - val_loss: 1.5206 - val_accuracy: 0.4604\n",
            "Epoch 34/50\n",
            "391/391 [==============================] - 6s 16ms/step - loss: 1.3590 - accuracy: 0.5165 - val_loss: 1.4817 - val_accuracy: 0.4709\n",
            "Epoch 35/50\n",
            "391/391 [==============================] - 6s 16ms/step - loss: 1.3561 - accuracy: 0.5166 - val_loss: 1.5051 - val_accuracy: 0.4617\n",
            "Epoch 36/50\n",
            "391/391 [==============================] - 6s 16ms/step - loss: 1.3454 - accuracy: 0.5213 - val_loss: 1.5202 - val_accuracy: 0.4614\n",
            "Epoch 37/50\n",
            "391/391 [==============================] - 6s 16ms/step - loss: 1.3503 - accuracy: 0.5195 - val_loss: 1.5154 - val_accuracy: 0.4502\n",
            "Epoch 38/50\n",
            "391/391 [==============================] - 6s 16ms/step - loss: 1.3435 - accuracy: 0.5222 - val_loss: 1.5198 - val_accuracy: 0.4663\n",
            "Epoch 39/50\n",
            "391/391 [==============================] - 6s 17ms/step - loss: 1.3414 - accuracy: 0.5236 - val_loss: 1.4727 - val_accuracy: 0.4796\n",
            "Epoch 40/50\n",
            "391/391 [==============================] - 6s 16ms/step - loss: 1.3373 - accuracy: 0.5230 - val_loss: 1.4935 - val_accuracy: 0.4740\n",
            "Epoch 41/50\n",
            "391/391 [==============================] - 6s 16ms/step - loss: 1.3410 - accuracy: 0.5235 - val_loss: 1.4766 - val_accuracy: 0.4786\n",
            "Epoch 42/50\n",
            "391/391 [==============================] - 6s 16ms/step - loss: 1.3273 - accuracy: 0.5291 - val_loss: 1.4801 - val_accuracy: 0.4712\n",
            "Epoch 43/50\n",
            "391/391 [==============================] - 6s 16ms/step - loss: 1.3309 - accuracy: 0.5256 - val_loss: 1.4776 - val_accuracy: 0.4786\n",
            "Epoch 44/50\n",
            "391/391 [==============================] - 6s 16ms/step - loss: 1.3299 - accuracy: 0.5254 - val_loss: 1.5014 - val_accuracy: 0.4709\n",
            "Epoch 45/50\n",
            "391/391 [==============================] - 6s 16ms/step - loss: 1.3257 - accuracy: 0.5316 - val_loss: 1.4679 - val_accuracy: 0.4807\n",
            "Epoch 46/50\n",
            "391/391 [==============================] - 6s 16ms/step - loss: 1.3221 - accuracy: 0.5287 - val_loss: 1.4806 - val_accuracy: 0.4793\n",
            "Epoch 47/50\n",
            "391/391 [==============================] - 6s 16ms/step - loss: 1.3149 - accuracy: 0.5332 - val_loss: 1.5143 - val_accuracy: 0.4693\n",
            "Epoch 48/50\n",
            "391/391 [==============================] - 6s 16ms/step - loss: 1.3151 - accuracy: 0.5348 - val_loss: 1.5635 - val_accuracy: 0.4631\n",
            "Epoch 49/50\n",
            "391/391 [==============================] - 6s 16ms/step - loss: 1.3213 - accuracy: 0.5306 - val_loss: 1.4775 - val_accuracy: 0.4835\n",
            "Epoch 50/50\n",
            "391/391 [==============================] - 6s 16ms/step - loss: 1.3115 - accuracy: 0.5350 - val_loss: 1.5055 - val_accuracy: 0.4705\n",
            "313/313 [==============================] - 1s 3ms/step - loss: 1.5055 - accuracy: 0.4705\n",
            "1563/1563 [==============================] - 4s 3ms/step - loss: 1.3120 - accuracy: 0.5366\n",
            "Validation Accuracy : 47.05 \n",
            "Validation Loss: 150.55 \n",
            "Training Accuracy : 53.66 \n",
            "Training Loss : 131.2 \n",
            "[INFO] NetC Started\n",
            "Epoch 1/50\n",
            "391/391 [==============================] - 34s 87ms/step - loss: 1.6447 - accuracy: 0.4217 - val_loss: 1.4624 - val_accuracy: 0.4895\n",
            "Epoch 2/50\n",
            "391/391 [==============================] - 33s 83ms/step - loss: 1.3640 - accuracy: 0.5242 - val_loss: 1.3250 - val_accuracy: 0.5385\n",
            "Epoch 3/50\n",
            "391/391 [==============================] - 34s 86ms/step - loss: 1.2552 - accuracy: 0.5615 - val_loss: 1.2561 - val_accuracy: 0.5500\n",
            "Epoch 4/50\n",
            "391/391 [==============================] - 32s 83ms/step - loss: 1.1844 - accuracy: 0.5888 - val_loss: 1.1810 - val_accuracy: 0.5892\n",
            "Epoch 5/50\n",
            "391/391 [==============================] - 33s 85ms/step - loss: 1.1261 - accuracy: 0.6112 - val_loss: 1.1417 - val_accuracy: 0.5998\n",
            "Epoch 6/50\n",
            "391/391 [==============================] - 33s 83ms/step - loss: 1.0852 - accuracy: 0.6272 - val_loss: 1.1262 - val_accuracy: 0.6076\n",
            "Epoch 7/50\n",
            "391/391 [==============================] - 34s 86ms/step - loss: 1.0478 - accuracy: 0.6393 - val_loss: 1.1011 - val_accuracy: 0.6160\n",
            "Epoch 8/50\n",
            "391/391 [==============================] - 33s 83ms/step - loss: 1.0243 - accuracy: 0.6475 - val_loss: 1.0864 - val_accuracy: 0.6239\n",
            "Epoch 9/50\n",
            "391/391 [==============================] - 33s 85ms/step - loss: 0.9906 - accuracy: 0.6611 - val_loss: 1.1282 - val_accuracy: 0.6067\n",
            "Epoch 10/50\n",
            "391/391 [==============================] - 34s 86ms/step - loss: 0.9666 - accuracy: 0.6687 - val_loss: 1.0650 - val_accuracy: 0.6320\n",
            "Epoch 11/50\n",
            "391/391 [==============================] - 33s 83ms/step - loss: 0.9524 - accuracy: 0.6728 - val_loss: 1.0584 - val_accuracy: 0.6372\n",
            "Epoch 12/50\n",
            "391/391 [==============================] - 33s 86ms/step - loss: 0.9325 - accuracy: 0.6805 - val_loss: 1.0591 - val_accuracy: 0.6329\n",
            "Epoch 13/50\n",
            "391/391 [==============================] - 33s 84ms/step - loss: 0.9204 - accuracy: 0.6819 - val_loss: 1.0727 - val_accuracy: 0.6224\n",
            "Epoch 14/50\n",
            "391/391 [==============================] - 34s 86ms/step - loss: 0.9022 - accuracy: 0.6888 - val_loss: 1.0349 - val_accuracy: 0.6481\n",
            "Epoch 15/50\n",
            "391/391 [==============================] - 33s 84ms/step - loss: 0.8930 - accuracy: 0.6931 - val_loss: 1.0700 - val_accuracy: 0.6311\n",
            "Epoch 16/50\n",
            "391/391 [==============================] - 33s 86ms/step - loss: 0.8828 - accuracy: 0.6971 - val_loss: 1.0957 - val_accuracy: 0.6178\n",
            "Epoch 17/50\n",
            "391/391 [==============================] - 33s 83ms/step - loss: 0.8656 - accuracy: 0.7031 - val_loss: 1.0756 - val_accuracy: 0.6316\n",
            "Epoch 18/50\n",
            "391/391 [==============================] - 34s 87ms/step - loss: 0.8560 - accuracy: 0.7048 - val_loss: 1.0796 - val_accuracy: 0.6301\n",
            "Epoch 19/50\n",
            "391/391 [==============================] - 33s 85ms/step - loss: 0.8490 - accuracy: 0.7087 - val_loss: 1.0643 - val_accuracy: 0.6349\n",
            "Epoch 20/50\n",
            "391/391 [==============================] - 34s 86ms/step - loss: 0.8357 - accuracy: 0.7118 - val_loss: 1.0626 - val_accuracy: 0.6376\n",
            "Epoch 21/50\n",
            "391/391 [==============================] - 34s 87ms/step - loss: 0.8272 - accuracy: 0.7152 - val_loss: 1.0342 - val_accuracy: 0.6511\n",
            "Epoch 22/50\n",
            "391/391 [==============================] - 33s 84ms/step - loss: 0.8155 - accuracy: 0.7204 - val_loss: 1.1077 - val_accuracy: 0.6324\n",
            "Epoch 23/50\n",
            "391/391 [==============================] - 34s 86ms/step - loss: 0.8128 - accuracy: 0.7195 - val_loss: 1.0867 - val_accuracy: 0.6323\n",
            "Epoch 24/50\n",
            "391/391 [==============================] - 33s 84ms/step - loss: 0.7993 - accuracy: 0.7238 - val_loss: 1.0514 - val_accuracy: 0.6420\n",
            "Epoch 25/50\n",
            "391/391 [==============================] - 34s 87ms/step - loss: 0.7897 - accuracy: 0.7288 - val_loss: 1.0689 - val_accuracy: 0.6374\n",
            "Epoch 26/50\n",
            "391/391 [==============================] - 33s 84ms/step - loss: 0.7854 - accuracy: 0.7309 - val_loss: 1.0630 - val_accuracy: 0.6418\n",
            "Epoch 27/50\n",
            "391/391 [==============================] - 34s 86ms/step - loss: 0.7755 - accuracy: 0.7343 - val_loss: 1.0929 - val_accuracy: 0.6341\n",
            "Epoch 28/50\n",
            "391/391 [==============================] - 33s 84ms/step - loss: 0.7727 - accuracy: 0.7351 - val_loss: 1.0649 - val_accuracy: 0.6377\n",
            "Epoch 29/50\n",
            "391/391 [==============================] - 34s 86ms/step - loss: 0.7665 - accuracy: 0.7365 - val_loss: 1.0801 - val_accuracy: 0.6361\n",
            "Epoch 30/50\n",
            "391/391 [==============================] - 33s 85ms/step - loss: 0.7630 - accuracy: 0.7372 - val_loss: 1.0929 - val_accuracy: 0.6349\n",
            "Epoch 31/50\n",
            "391/391 [==============================] - 33s 84ms/step - loss: 0.7569 - accuracy: 0.7386 - val_loss: 1.0912 - val_accuracy: 0.6322\n",
            "Epoch 32/50\n",
            "391/391 [==============================] - 34s 86ms/step - loss: 0.7491 - accuracy: 0.7429 - val_loss: 1.0792 - val_accuracy: 0.6378\n",
            "Epoch 33/50\n",
            "391/391 [==============================] - 33s 83ms/step - loss: 0.7419 - accuracy: 0.7442 - val_loss: 1.0884 - val_accuracy: 0.6337\n",
            "Epoch 34/50\n",
            "391/391 [==============================] - 34s 86ms/step - loss: 0.7316 - accuracy: 0.7492 - val_loss: 1.1170 - val_accuracy: 0.6303\n",
            "Epoch 35/50\n",
            "391/391 [==============================] - 33s 84ms/step - loss: 0.7254 - accuracy: 0.7502 - val_loss: 1.1096 - val_accuracy: 0.6342\n",
            "Epoch 36/50\n",
            "391/391 [==============================] - 34s 86ms/step - loss: 0.7268 - accuracy: 0.7496 - val_loss: 1.1315 - val_accuracy: 0.6299\n",
            "Epoch 37/50\n",
            "391/391 [==============================] - 33s 83ms/step - loss: 0.7207 - accuracy: 0.7530 - val_loss: 1.1194 - val_accuracy: 0.6313\n",
            "Epoch 38/50\n",
            "391/391 [==============================] - 33s 85ms/step - loss: 0.7136 - accuracy: 0.7556 - val_loss: 1.1033 - val_accuracy: 0.6355\n",
            "Epoch 39/50\n",
            "391/391 [==============================] - 33s 84ms/step - loss: 0.7056 - accuracy: 0.7575 - val_loss: 1.1141 - val_accuracy: 0.6336\n",
            "Epoch 40/50\n",
            "391/391 [==============================] - 34s 86ms/step - loss: 0.7006 - accuracy: 0.7614 - val_loss: 1.1567 - val_accuracy: 0.6254\n",
            "Epoch 41/50\n",
            "391/391 [==============================] - 33s 86ms/step - loss: 0.6957 - accuracy: 0.7617 - val_loss: 1.1258 - val_accuracy: 0.6349\n",
            "Epoch 42/50\n",
            "391/391 [==============================] - 33s 83ms/step - loss: 0.6953 - accuracy: 0.7610 - val_loss: 1.1697 - val_accuracy: 0.6295\n",
            "Epoch 43/50\n",
            "391/391 [==============================] - 34s 86ms/step - loss: 0.6886 - accuracy: 0.7647 - val_loss: 1.1617 - val_accuracy: 0.6237\n",
            "Epoch 44/50\n",
            "391/391 [==============================] - 33s 83ms/step - loss: 0.6813 - accuracy: 0.7650 - val_loss: 1.1867 - val_accuracy: 0.6163\n",
            "Epoch 45/50\n",
            "391/391 [==============================] - 34s 86ms/step - loss: 0.6774 - accuracy: 0.7687 - val_loss: 1.1687 - val_accuracy: 0.6284\n",
            "Epoch 46/50\n",
            "391/391 [==============================] - 34s 86ms/step - loss: 0.6739 - accuracy: 0.7694 - val_loss: 1.1537 - val_accuracy: 0.6326\n",
            "Epoch 47/50\n",
            "391/391 [==============================] - 34s 87ms/step - loss: 0.6681 - accuracy: 0.7691 - val_loss: 1.1471 - val_accuracy: 0.6358\n",
            "Epoch 48/50\n",
            "391/391 [==============================] - 33s 84ms/step - loss: 0.6658 - accuracy: 0.7710 - val_loss: 1.1551 - val_accuracy: 0.6330\n",
            "Epoch 49/50\n",
            "391/391 [==============================] - 34s 87ms/step - loss: 0.6590 - accuracy: 0.7738 - val_loss: 1.1820 - val_accuracy: 0.6234\n",
            "Epoch 50/50\n",
            "391/391 [==============================] - 34s 87ms/step - loss: 0.6577 - accuracy: 0.7730 - val_loss: 1.1943 - val_accuracy: 0.6299\n",
            "313/313 [==============================] - 3s 8ms/step - loss: 1.1943 - accuracy: 0.6299\n",
            "1563/1563 [==============================] - 12s 8ms/step - loss: 0.6341 - accuracy: 0.7833\n",
            "Validation Accuracy : 62.99 \n",
            "Validation Loss: 119.43 \n",
            "Training Accuracy : 78.33 \n",
            "Training Loss : 63.41 \n"
          ],
          "name": "stdout"
        }
      ]
    },
    {
      "cell_type": "markdown",
      "metadata": {
        "id": "3towAC7LjgOO"
      },
      "source": [
        "### Finally show the accuracy plots"
      ]
    },
    {
      "cell_type": "code",
      "metadata": {
        "colab": {
          "base_uri": "https://localhost:8080/",
          "height": 965
        },
        "id": "NDNfZfr_XJhf",
        "outputId": "f94ae47a-9072-43e4-fde3-9e92af5d5dc6"
      },
      "source": [
        "for story in results:\n",
        "    print('{} s Summary \\nTraining accuracy : {} \\nTesting accuracy : {}'.format(\n",
        "                                                                                story['net'],\n",
        "                                                                                story['train_acc'],\n",
        "                                                                                story['test_acc']      \n",
        "                                                                                  ))\n",
        "    plot(story['History'])"
      ],
      "execution_count": 8,
      "outputs": [
        {
          "output_type": "stream",
          "text": [
            "NetA s Summary \n",
            "Training accuracy : 42.77 \n",
            "Testing accuracy : 38.32\n"
          ],
          "name": "stdout"
        },
        {
          "output_type": "display_data",
          "data": {
            "image/png": "[encoded data removed]",
            "text/plain": [
              "<Figure size 432x288 with 2 Axes>"
            ]
          },
          "metadata": {
            "tags": [],
            "needs_background": "light"
          }
        },
        {
          "output_type": "stream",
          "text": [
            "NetB s Summary \n",
            "Training accuracy : 53.66 \n",
            "Testing accuracy : 47.05\n"
          ],
          "name": "stdout"
        },
        {
          "output_type": "display_data",
          "data": {
            "image/png": "[encoded data removed]",
            "text/plain": [
              "<Figure size 432x288 with 2 Axes>"
            ]
          },
          "metadata": {
            "tags": [],
            "needs_background": "light"
          }
        },
        {
          "output_type": "stream",
          "text": [
            "NetC s Summary \n",
            "Training accuracy : 78.33 \n",
            "Testing accuracy : 62.99\n"
          ],
          "name": "stdout"
        },
        {
          "output_type": "display_data",
          "data": {
            "image/png": "[encoded data removed]",
            "text/plain": [
              "<Figure size 432x288 with 2 Axes>"
            ]
          },
          "metadata": {
            "tags": [],
            "needs_background": "light"
          }
        }
      ]
    }
  ]
}